{
 "cells": [
  {
   "cell_type": "markdown",
   "id": "e03c92aa",
   "metadata": {},
   "source": [
    "<h1>Содержание<span class=\"tocSkip\"></span></h1>\n",
    "<div class=\"toc\"><ul class=\"toc-item\"><li><span><a href=\"#Подготовка\" data-toc-modified-id=\"Подготовка-1\"><span class=\"toc-item-num\">1&nbsp;&nbsp;</span>Подготовка</a></span></li><li><span><a href=\"#Обучение\" data-toc-modified-id=\"Обучение-2\"><span class=\"toc-item-num\">2&nbsp;&nbsp;</span>Обучение</a></span></li><li><span><a href=\"#Выводы\" data-toc-modified-id=\"Выводы-3\"><span class=\"toc-item-num\">3&nbsp;&nbsp;</span>Выводы</a></span></li><li><span><a href=\"#Чек-лист-проверки\" data-toc-modified-id=\"Чек-лист-проверки-4\"><span class=\"toc-item-num\">4&nbsp;&nbsp;</span>Чек-лист проверки</a></span></li></ul></div>"
   ]
  },
  {
   "cell_type": "markdown",
   "id": "18ce5b39",
   "metadata": {},
   "source": [
    "# Проект для «Викишоп»"
   ]
  },
  {
   "cell_type": "markdown",
   "id": "1529e330",
   "metadata": {},
   "source": [
    "Интернет-магазин «Викишоп» запускает новый сервис. Теперь пользователи могут редактировать и дополнять описания товаров, как в вики-сообществах. То есть клиенты предлагают свои правки и комментируют изменения других. Магазину нужен инструмент, который будет искать токсичные комментарии и отправлять их на модерацию. \n",
    "\n",
    "Обучите модель классифицировать комментарии на позитивные и негативные. В вашем распоряжении набор данных с разметкой о токсичности правок.\n",
    "\n",
    "Постройте модель со значением метрики качества *F1* не меньше 0.75. \n",
    "\n",
    "**Инструкция по выполнению проекта**\n",
    "\n",
    "1. Загрузите и подготовьте данные.\n",
    "2. Обучите разные модели. \n",
    "3. Сделайте выводы.\n",
    "\n",
    "Для выполнения проекта применять *BERT* необязательно, но вы можете попробовать.\n",
    "\n",
    "**Описание данных**\n",
    "\n",
    "Данные находятся в файле `toxic_comments.csv`. Столбец *text* в нём содержит текст комментария, а *toxic* — целевой признак."
   ]
  },
  {
   "cell_type": "markdown",
   "id": "2822fc0c",
   "metadata": {},
   "source": [
    "## Подготовка"
   ]
  },
  {
   "cell_type": "code",
   "execution_count": 1,
   "id": "d4c0ec01",
   "metadata": {},
   "outputs": [
    {
     "name": "stdout",
     "output_type": "stream",
     "text": [
      "%pylab is deprecated, use %matplotlib inline and import the required libraries.\n",
      "Populating the interactive namespace from numpy and matplotlib\n"
     ]
    }
   ],
   "source": [
    "%pylab inline\n",
    "%matplotlib inline"
   ]
  },
  {
   "cell_type": "code",
   "execution_count": 2,
   "id": "16401441",
   "metadata": {},
   "outputs": [
    {
     "name": "stderr",
     "output_type": "stream",
     "text": [
      "C:\\ana\\lib\\site-packages\\numba\\core\\decorators.py:262: NumbaDeprecationWarning: \u001b[1mnumba.generated_jit is deprecated. Please see the documentation at: https://numba.readthedocs.io/en/stable/reference/deprecation.html#deprecation-of-generated-jit for more information and advice on a suitable replacement.\u001b[0m\n",
      "  warnings.warn(msg, NumbaDeprecationWarning)\n",
      "C:\\ana\\lib\\site-packages\\visions\\backends\\shared\\nan_handling.py:51: NumbaDeprecationWarning: \u001b[1mThe 'nopython' keyword argument was not supplied to the 'numba.jit' decorator. The implicit default value for this argument is currently False, but it will be changed to True in Numba 0.59.0. See https://numba.readthedocs.io/en/stable/reference/deprecation.html#deprecation-of-object-mode-fall-back-behaviour-when-using-jit for details.\u001b[0m\n",
      "  def hasna(x: np.ndarray) -> bool:\n"
     ]
    }
   ],
   "source": [
    "import numpy as np\n",
    "import pandas as pd\n",
    "from tensorflow.keras.layers import Dense, Input, Flatten, Embedding, multiply, SpatialDropout1D, BatchNormalization, Dropout\n",
    "from tensorflow.keras.models import Model, save_model, load_model, Sequential\n",
    "from tensorflow.keras.optimizers import Adam\n",
    "from tensorflow.keras.preprocessing.sequence import pad_sequences # Метод для работы с последовательностями\n",
    "from tensorflow.keras.preprocessing.text import Tokenizer  # импортируем токенизатор\n",
    "from tensorflow.keras.callbacks import ModelCheckpoint, EarlyStopping, ReduceLROnPlateau # колбэки\n",
    "from sklearn.feature_extraction.text import TfidfVectorizer\n",
    "from sklearn.model_selection import train_test_split\n",
    "from sklearn.metrics import f1_score# Для разделения выборки на тестовую и обучающую\n",
    "from ydata_profiling import ProfileReport\n",
    "import matplotlib.pyplot as plt\n",
    "import spacy\n",
    "import nltk\n",
    "from textblob import TextBlob\n",
    "from catboost import CatBoostClassifier\n",
    "from catboost import cv, Pool"
   ]
  },
  {
   "cell_type": "code",
   "execution_count": 4,
   "id": "fed5602f",
   "metadata": {},
   "outputs": [],
   "source": [
    "try:\n",
    "    data = pd.read_csv('toxic_comments.csv')\n",
    "except:\n",
    "    data = pd.read_csv('https://code.s3.yandex.net/datasets/toxic_comments.csv')"
   ]
  },
  {
   "cell_type": "code",
   "execution_count": 5,
   "id": "5a4c9596",
   "metadata": {},
   "outputs": [],
   "source": [
    "data = data.drop('Unnamed: 0',axis = 1)"
   ]
  },
  {
   "cell_type": "code",
   "execution_count": 6,
   "id": "c7331a2b",
   "metadata": {},
   "outputs": [
    {
     "data": {
      "text/html": [
       "<div>\n",
       "<style scoped>\n",
       "    .dataframe tbody tr th:only-of-type {\n",
       "        vertical-align: middle;\n",
       "    }\n",
       "\n",
       "    .dataframe tbody tr th {\n",
       "        vertical-align: top;\n",
       "    }\n",
       "\n",
       "    .dataframe thead th {\n",
       "        text-align: right;\n",
       "    }\n",
       "</style>\n",
       "<table border=\"1\" class=\"dataframe\">\n",
       "  <thead>\n",
       "    <tr style=\"text-align: right;\">\n",
       "      <th></th>\n",
       "      <th>text</th>\n",
       "      <th>toxic</th>\n",
       "    </tr>\n",
       "  </thead>\n",
       "  <tbody>\n",
       "    <tr>\n",
       "      <th>0</th>\n",
       "      <td>Explanation\\nWhy the edits made under my usern...</td>\n",
       "      <td>0</td>\n",
       "    </tr>\n",
       "    <tr>\n",
       "      <th>1</th>\n",
       "      <td>D'aww! He matches this background colour I'm s...</td>\n",
       "      <td>0</td>\n",
       "    </tr>\n",
       "    <tr>\n",
       "      <th>2</th>\n",
       "      <td>Hey man, I'm really not trying to edit war. It...</td>\n",
       "      <td>0</td>\n",
       "    </tr>\n",
       "    <tr>\n",
       "      <th>3</th>\n",
       "      <td>\"\\nMore\\nI can't make any real suggestions on ...</td>\n",
       "      <td>0</td>\n",
       "    </tr>\n",
       "    <tr>\n",
       "      <th>4</th>\n",
       "      <td>You, sir, are my hero. Any chance you remember...</td>\n",
       "      <td>0</td>\n",
       "    </tr>\n",
       "    <tr>\n",
       "      <th>...</th>\n",
       "      <td>...</td>\n",
       "      <td>...</td>\n",
       "    </tr>\n",
       "    <tr>\n",
       "      <th>159287</th>\n",
       "      <td>\":::::And for the second time of asking, when ...</td>\n",
       "      <td>0</td>\n",
       "    </tr>\n",
       "    <tr>\n",
       "      <th>159288</th>\n",
       "      <td>You should be ashamed of yourself \\n\\nThat is ...</td>\n",
       "      <td>0</td>\n",
       "    </tr>\n",
       "    <tr>\n",
       "      <th>159289</th>\n",
       "      <td>Spitzer \\n\\nUmm, theres no actual article for ...</td>\n",
       "      <td>0</td>\n",
       "    </tr>\n",
       "    <tr>\n",
       "      <th>159290</th>\n",
       "      <td>And it looks like it was actually you who put ...</td>\n",
       "      <td>0</td>\n",
       "    </tr>\n",
       "    <tr>\n",
       "      <th>159291</th>\n",
       "      <td>\"\\nAnd ... I really don't think you understand...</td>\n",
       "      <td>0</td>\n",
       "    </tr>\n",
       "  </tbody>\n",
       "</table>\n",
       "<p>159292 rows × 2 columns</p>\n",
       "</div>"
      ],
      "text/plain": [
       "                                                     text  toxic\n",
       "0       Explanation\\nWhy the edits made under my usern...      0\n",
       "1       D'aww! He matches this background colour I'm s...      0\n",
       "2       Hey man, I'm really not trying to edit war. It...      0\n",
       "3       \"\\nMore\\nI can't make any real suggestions on ...      0\n",
       "4       You, sir, are my hero. Any chance you remember...      0\n",
       "...                                                   ...    ...\n",
       "159287  \":::::And for the second time of asking, when ...      0\n",
       "159288  You should be ashamed of yourself \\n\\nThat is ...      0\n",
       "159289  Spitzer \\n\\nUmm, theres no actual article for ...      0\n",
       "159290  And it looks like it was actually you who put ...      0\n",
       "159291  \"\\nAnd ... I really don't think you understand...      0\n",
       "\n",
       "[159292 rows x 2 columns]"
      ]
     },
     "execution_count": 6,
     "metadata": {},
     "output_type": "execute_result"
    }
   ],
   "source": [
    "data"
   ]
  },
  {
   "cell_type": "code",
   "execution_count": 7,
   "id": "32051fad",
   "metadata": {
    "scrolled": true
   },
   "outputs": [
    {
     "name": "stdout",
     "output_type": "stream",
     "text": [
      "<class 'pandas.core.frame.DataFrame'>\n",
      "RangeIndex: 159292 entries, 0 to 159291\n",
      "Data columns (total 2 columns):\n",
      " #   Column  Non-Null Count   Dtype \n",
      "---  ------  --------------   ----- \n",
      " 0   text    159292 non-null  object\n",
      " 1   toxic   159292 non-null  int64 \n",
      "dtypes: int64(1), object(1)\n",
      "memory usage: 2.4+ MB\n"
     ]
    }
   ],
   "source": [
    "data.info()"
   ]
  },
  {
   "cell_type": "markdown",
   "id": "564e1d7d",
   "metadata": {},
   "source": [
    "вывод eda: проблем с типом данных нет\n",
    "<br>данные пропусков не имеет\n",
    "<br>дубликаты отсутсвуют \n",
    "<br>обнаружены различные неинформативные значения в тексте \n",
    "<br>данные нуждаются в очистке "
   ]
  },
  {
   "cell_type": "markdown",
   "id": "51b7dc07",
   "metadata": {},
   "source": [
    "## Обучение"
   ]
  },
  {
   "cell_type": "code",
   "execution_count": 8,
   "id": "1929936b",
   "metadata": {},
   "outputs": [
    {
     "data": {
      "text/plain": [
       "0    143106\n",
       "1     16186\n",
       "Name: toxic, dtype: int64"
      ]
     },
     "execution_count": 8,
     "metadata": {},
     "output_type": "execute_result"
    }
   ],
   "source": [
    "data['toxic'].value_counts()"
   ]
  },
  {
   "cell_type": "markdown",
   "id": "37603eb4",
   "metadata": {},
   "source": [
    "виден дисбаланс класса , в идеале нужно его устранить или изменить порог класса хотя бы до 0.3"
   ]
  },
  {
   "cell_type": "markdown",
   "id": "87890042-1315-45e2-91f0-73a1894631a1",
   "metadata": {},
   "source": [
    "сделаем лематизацию"
   ]
  },
  {
   "cell_type": "code",
   "execution_count": 9,
   "id": "611ee9f3",
   "metadata": {},
   "outputs": [],
   "source": [
    "lemmatizer = spacy.load('en_core_web_sm', disable=['parser', 'ner'])"
   ]
  },
  {
   "cell_type": "code",
   "execution_count": 10,
   "id": "9306f704",
   "metadata": {},
   "outputs": [],
   "source": [
    "def lemmatize(sentence):\n",
    "    doc = lemmatizer(sentence)\n",
    "    return \" \".join([token.lemma_ for token in doc])"
   ]
  },
  {
   "cell_type": "code",
   "execution_count": 11,
   "id": "44f2af87",
   "metadata": {},
   "outputs": [],
   "source": [
    "data['text'] = data['text'].apply(lemmatize)"
   ]
  },
  {
   "cell_type": "code",
   "execution_count": 12,
   "id": "823b3ecc",
   "metadata": {},
   "outputs": [],
   "source": [
    "all_text = data['text'].to_list()"
   ]
  },
  {
   "cell_type": "code",
   "execution_count": 13,
   "id": "871b5939",
   "metadata": {},
   "outputs": [],
   "source": [
    "max_words = 61000  # размер словаря\n",
    "# Используется встроенный в Keras токенизатор для разбиения текста и построения частотного словаря\n",
    "tokenizer = Tokenizer(num_words=max_words, filters='!\"#$%&()*+,-–—./…:;<=>?@[\\\\]^_`{|}~«»\\t\\n\\xa0\\ufeff', lower=True, split=' ', oov_token='неизвестное_слово', char_level=False)\n",
    "# Использованы параметры:\n",
    "# num_words   - объем словаря\n",
    "# filters     - убираемые из текста ненужные символы\n",
    "# lower       - приведение слов к нижнему регистру\n",
    "# split       - разделитель слов\n",
    "# char_level  - указание разделять по словам, а не по единичным символам\n",
    "# oov_token   - токен для слов, которые не вошли в словарь\n",
    "\n",
    "# Построение частотного словаря по текстам\n",
    "tokenizer.fit_on_texts(all_text)"
   ]
  },
  {
   "cell_type": "code",
   "execution_count": 14,
   "id": "af03def6",
   "metadata": {},
   "outputs": [],
   "source": [
    "ans_text = tokenizer.texts_to_sequences(data['text'])"
   ]
  },
  {
   "cell_type": "code",
   "execution_count": 15,
   "id": "bef7f464",
   "metadata": {},
   "outputs": [
    {
     "data": {
      "text/html": [
       "<div>\n",
       "<style scoped>\n",
       "    .dataframe tbody tr th:only-of-type {\n",
       "        vertical-align: middle;\n",
       "    }\n",
       "\n",
       "    .dataframe tbody tr th {\n",
       "        vertical-align: top;\n",
       "    }\n",
       "\n",
       "    .dataframe thead th {\n",
       "        text-align: right;\n",
       "    }\n",
       "</style>\n",
       "<table border=\"1\" class=\"dataframe\">\n",
       "  <thead>\n",
       "    <tr style=\"text-align: right;\">\n",
       "      <th></th>\n",
       "      <th>text</th>\n",
       "      <th>toxic</th>\n",
       "      <th>ans_text</th>\n",
       "    </tr>\n",
       "  </thead>\n",
       "  <tbody>\n",
       "    <tr>\n",
       "      <th>0</th>\n",
       "      <td>Explanation \\n why the edit make under my user...</td>\n",
       "      <td>0</td>\n",
       "      <td>[586, 80, 3, 39, 48, 191, 28, 631, 3783, 9570,...</td>\n",
       "    </tr>\n",
       "    <tr>\n",
       "      <th>1</th>\n",
       "      <td>D'aww ! he match this background colour I be s...</td>\n",
       "      <td>0</td>\n",
       "      <td>[1, 37, 1018, 17, 533, 2459, 5, 2, 3815, 934, ...</td>\n",
       "    </tr>\n",
       "    <tr>\n",
       "      <th>2</th>\n",
       "      <td>hey man , I be really not try to edit war . it...</td>\n",
       "      <td>0</td>\n",
       "      <td>[390, 316, 5, 2, 143, 11, 120, 4, 39, 234, 12,...</td>\n",
       "    </tr>\n",
       "    <tr>\n",
       "      <th>3</th>\n",
       "      <td>\" \\n More \\n I can not make any real suggestio...</td>\n",
       "      <td>0</td>\n",
       "      <td>[64, 5, 31, 11, 48, 60, 323, 701, 18, 1334, 5,...</td>\n",
       "    </tr>\n",
       "    <tr>\n",
       "      <th>4</th>\n",
       "      <td>you , sir , be my hero . any chance you rememb...</td>\n",
       "      <td>0</td>\n",
       "      <td>[8, 1523, 2, 28, 2482, 60, 911, 8, 539, 42, 24...</td>\n",
       "    </tr>\n",
       "    <tr>\n",
       "      <th>...</th>\n",
       "      <td>...</td>\n",
       "      <td>...</td>\n",
       "      <td>...</td>\n",
       "    </tr>\n",
       "    <tr>\n",
       "      <th>159287</th>\n",
       "      <td>\" : : : : : and for the second time of asking ...</td>\n",
       "      <td>0</td>\n",
       "      <td>[7, 16, 3, 382, 78, 6, 22609, 85, 21, 217, 553...</td>\n",
       "    </tr>\n",
       "    <tr>\n",
       "      <th>159288</th>\n",
       "      <td>you should be ashamed of yourself \\n\\n that be...</td>\n",
       "      <td>0</td>\n",
       "      <td>[8, 59, 2, 3935, 6, 213, 10, 2, 9, 2851, 123, ...</td>\n",
       "    </tr>\n",
       "    <tr>\n",
       "      <th>159289</th>\n",
       "      <td>Spitzer \\n\\n Umm , there s no actual article f...</td>\n",
       "      <td>0</td>\n",
       "      <td>[26399, 6130, 43, 258, 50, 711, 20, 16, 6796, ...</td>\n",
       "    </tr>\n",
       "    <tr>\n",
       "      <th>159290</th>\n",
       "      <td>and it look like it be actually you who put on...</td>\n",
       "      <td>0</td>\n",
       "      <td>[7, 12, 100, 52, 12, 2, 218, 8, 69, 181, 18, 3...</td>\n",
       "    </tr>\n",
       "    <tr>\n",
       "      <th>159291</th>\n",
       "      <td>\" \\n and ... I really do not think you underst...</td>\n",
       "      <td>0</td>\n",
       "      <td>[7, 5, 143, 15, 11, 61, 8, 231, 5, 142, 67, 7,...</td>\n",
       "    </tr>\n",
       "  </tbody>\n",
       "</table>\n",
       "<p>159292 rows × 3 columns</p>\n",
       "</div>"
      ],
      "text/plain": [
       "                                                     text  toxic  \\\n",
       "0       Explanation \\n why the edit make under my user...      0   \n",
       "1       D'aww ! he match this background colour I be s...      0   \n",
       "2       hey man , I be really not try to edit war . it...      0   \n",
       "3       \" \\n More \\n I can not make any real suggestio...      0   \n",
       "4       you , sir , be my hero . any chance you rememb...      0   \n",
       "...                                                   ...    ...   \n",
       "159287  \" : : : : : and for the second time of asking ...      0   \n",
       "159288  you should be ashamed of yourself \\n\\n that be...      0   \n",
       "159289  Spitzer \\n\\n Umm , there s no actual article f...      0   \n",
       "159290  and it look like it be actually you who put on...      0   \n",
       "159291  \" \\n and ... I really do not think you underst...      0   \n",
       "\n",
       "                                                 ans_text  \n",
       "0       [586, 80, 3, 39, 48, 191, 28, 631, 3783, 9570,...  \n",
       "1       [1, 37, 1018, 17, 533, 2459, 5, 2, 3815, 934, ...  \n",
       "2       [390, 316, 5, 2, 143, 11, 120, 4, 39, 234, 12,...  \n",
       "3       [64, 5, 31, 11, 48, 60, 323, 701, 18, 1334, 5,...  \n",
       "4       [8, 1523, 2, 28, 2482, 60, 911, 8, 539, 42, 24...  \n",
       "...                                                   ...  \n",
       "159287  [7, 16, 3, 382, 78, 6, 22609, 85, 21, 217, 553...  \n",
       "159288  [8, 59, 2, 3935, 6, 213, 10, 2, 9, 2851, 123, ...  \n",
       "159289  [26399, 6130, 43, 258, 50, 711, 20, 16, 6796, ...  \n",
       "159290  [7, 12, 100, 52, 12, 2, 218, 8, 69, 181, 18, 3...  \n",
       "159291  [7, 5, 143, 15, 11, 61, 8, 231, 5, 142, 67, 7,...  \n",
       "\n",
       "[159292 rows x 3 columns]"
      ]
     },
     "execution_count": 15,
     "metadata": {},
     "output_type": "execute_result"
    }
   ],
   "source": [
    "data['ans_text'] = ans_text\n",
    "data"
   ]
  },
  {
   "cell_type": "markdown",
   "id": "557d4c95",
   "metadata": {},
   "source": [
    "токенизация завершена "
   ]
  },
  {
   "cell_type": "code",
   "execution_count": 16,
   "id": "f5c32124",
   "metadata": {},
   "outputs": [],
   "source": [
    "# функция для подсчёта метрики F1\n",
    "def compute_metric(pred, y):\n",
    "    score = f1_score(y, pred)\n",
    "    return score"
   ]
  },
  {
   "cell_type": "code",
   "execution_count": 17,
   "id": "5fe0da0a",
   "metadata": {},
   "outputs": [
    {
     "name": "stdout",
     "output_type": "stream",
     "text": [
      "1403\n"
     ]
    }
   ],
   "source": [
    "#находим максимальную последовательность в ответах\n",
    "len_vector = 0\n",
    "for i in data['ans_text']:\n",
    "    if len_vector <= len(i): len_vector=len(i)\n",
    "\n",
    "print(len_vector)"
   ]
  },
  {
   "cell_type": "markdown",
   "id": "87002df2",
   "metadata": {},
   "source": [
    "делим на трайн валид и тест"
   ]
  },
  {
   "cell_type": "code",
   "execution_count": 18,
   "id": "0758d202",
   "metadata": {},
   "outputs": [],
   "source": [
    "x_train = pad_sequences(ans_text)"
   ]
  },
  {
   "cell_type": "code",
   "execution_count": 19,
   "id": "1389cdc8",
   "metadata": {},
   "outputs": [],
   "source": [
    "x_tr, x_val, y_tr, y_val = train_test_split(x_train, data['toxic'], test_size=0.15, shuffle=True)"
   ]
  },
  {
   "cell_type": "code",
   "execution_count": 20,
   "id": "b795715c",
   "metadata": {},
   "outputs": [],
   "source": [
    "x_tr, x_test, y_tr, y_test = train_test_split(x_tr, y_tr, test_size=0.15, shuffle=True)"
   ]
  },
  {
   "cell_type": "code",
   "execution_count": 21,
   "id": "f7bd8bc5",
   "metadata": {},
   "outputs": [
    {
     "data": {
      "text/plain": [
       "array([[   0,    0,    0, ..., 2081,   28,  305],\n",
       "       [   0,    0,    0, ...,  424,    4,    8],\n",
       "       [   0,    0,    0, ..., 3347, 2624, 3843],\n",
       "       ...,\n",
       "       [   0,    0,    0, ...,    9, 1581, 4451],\n",
       "       [   0,    0,    0, ...,    8,  200,  668],\n",
       "       [   0,    0,    0, ...,   20,   44,   17]])"
      ]
     },
     "execution_count": 21,
     "metadata": {},
     "output_type": "execute_result"
    }
   ],
   "source": [
    "x_tr"
   ]
  },
  {
   "cell_type": "code",
   "execution_count": 22,
   "id": "79187d20",
   "metadata": {},
   "outputs": [
    {
     "name": "stdout",
     "output_type": "stream",
     "text": [
      "Model: \"sequential\"\n",
      "_________________________________________________________________\n",
      " Layer (type)                Output Shape              Param #   \n",
      "=================================================================\n",
      " embedding (Embedding)       (None, 1403, 20)          1220000   \n",
      "                                                                 \n",
      " spatial_dropout1d (SpatialD  (None, 1403, 20)         0         \n",
      " ropout1D)                                                       \n",
      "                                                                 \n",
      " flatten (Flatten)           (None, 28060)             0         \n",
      "                                                                 \n",
      " dense (Dense)               (None, 200)               5612200   \n",
      "                                                                 \n",
      " dense_1 (Dense)             (None, 1)                 201       \n",
      "                                                                 \n",
      "=================================================================\n",
      "Total params: 6,832,401\n",
      "Trainable params: 6,832,401\n",
      "Non-trainable params: 0\n",
      "_________________________________________________________________\n"
     ]
    }
   ],
   "source": [
    "#Создаём сеть с Embedding слоем\n",
    "model03 = Sequential()\n",
    "model03.add(Embedding(max_words, 20, input_length=len_vector, mask_zero=True))\n",
    "model03.add(SpatialDropout1D(0.2))\n",
    "model03.add(Flatten())\n",
    "# model03.add(BatchNormalization())\n",
    "model03.add(Dense(200, activation=\"relu\"))\n",
    "model03.add(Dense(1, activation='sigmoid'))\n",
    "\n",
    "model03.compile(optimizer='adam',\n",
    "              loss='binary_crossentropy',\n",
    "              metrics=['accuracy'])\n",
    "\n",
    "model03.summary()"
   ]
  },
  {
   "cell_type": "code",
   "execution_count": 23,
   "id": "a2def90b",
   "metadata": {},
   "outputs": [],
   "source": [
    "earlystop_callb = EarlyStopping(monitor='val_accuracy',   # колбэк на остановку\n",
    "                                patience=3,\n",
    "                                )\n",
    "\n",
    "checkpoint_callb = ModelCheckpoint(filepath='хак2.h5',   # колбэк на сохранение лучшей модели\n",
    "                                   monitor='val_accuracy',\n",
    "                                   save_best_only=True)\n",
    "\n",
    "reducelr_callb = ReduceLROnPlateau(monitor ='val_accuracy',    # колбэк на уменьшения lr\n",
    "                                   factor=0.1,\n",
    "                                   patience=20,\n",
    "                                   verbose=1)"
   ]
  },
  {
   "cell_type": "code",
   "execution_count": 24,
   "id": "97bf28e3",
   "metadata": {
    "scrolled": true
   },
   "outputs": [
    {
     "name": "stdout",
     "output_type": "stream",
     "text": [
      "Epoch 1/20\n",
      "225/225 [==============================] - 40s 175ms/step - loss: 0.2378 - accuracy: 0.9194 - val_loss: 0.1485 - val_accuracy: 0.9474 - lr: 0.0010\n",
      "Epoch 2/20\n",
      "225/225 [==============================] - 39s 175ms/step - loss: 0.1191 - accuracy: 0.9572 - val_loss: 0.1272 - val_accuracy: 0.9554 - lr: 0.0010\n",
      "Epoch 3/20\n",
      "225/225 [==============================] - 38s 169ms/step - loss: 0.0838 - accuracy: 0.9698 - val_loss: 0.1277 - val_accuracy: 0.9578 - lr: 0.0010\n",
      "Epoch 4/20\n",
      "225/225 [==============================] - 37s 164ms/step - loss: 0.0600 - accuracy: 0.9788 - val_loss: 0.1430 - val_accuracy: 0.9592 - lr: 0.0010\n",
      "Epoch 5/20\n",
      "225/225 [==============================] - 37s 163ms/step - loss: 0.0430 - accuracy: 0.9849 - val_loss: 0.1598 - val_accuracy: 0.9574 - lr: 0.0010\n",
      "Epoch 6/20\n",
      "225/225 [==============================] - 37s 164ms/step - loss: 0.0302 - accuracy: 0.9900 - val_loss: 0.1785 - val_accuracy: 0.9557 - lr: 0.0010\n",
      "Epoch 7/20\n",
      "225/225 [==============================] - 36s 162ms/step - loss: 0.0227 - accuracy: 0.9928 - val_loss: 0.1991 - val_accuracy: 0.9546 - lr: 0.0010\n"
     ]
    }
   ],
   "source": [
    "history = model03.fit(x_tr,\n",
    "                      y_tr,\n",
    "                      epochs=20,\n",
    "                      batch_size=512,\n",
    "                      validation_data=(x_val, y_val),\n",
    "                      callbacks=[reducelr_callb,\n",
    "                                                    checkpoint_callb,\n",
    "                                                    earlystop_callb]\n",
    "                      )"
   ]
  },
  {
   "cell_type": "code",
   "execution_count": 25,
   "id": "2244237e",
   "metadata": {},
   "outputs": [
    {
     "data": {
      "image/png": "[encoded data removed]",
      "text/plain": [
       "<Figure size 800x500 with 1 Axes>"
      ]
     },
     "metadata": {},
     "output_type": "display_data"
    }
   ],
   "source": [
    "plt.figure(figsize=(8,5))\n",
    "plt.plot(history.history['loss'],\n",
    "         label='ошибка на обучающем наборе')\n",
    "plt.plot(history.history['val_loss'],\n",
    "         label='ощибка на проверочном наборе')\n",
    "plt.xlabel('Эпоха обучения')\n",
    "plt.ylabel('ошибка')\n",
    "plt.legend()\n",
    "plt.show()"
   ]
  },
  {
   "cell_type": "code",
   "execution_count": 26,
   "id": "8c081f63",
   "metadata": {},
   "outputs": [
    {
     "data": {
      "image/png": "[encoded data removed]",
      "text/plain": [
       "<Figure size 800x500 with 1 Axes>"
      ]
     },
     "metadata": {},
     "output_type": "display_data"
    }
   ],
   "source": [
    "plt.figure(figsize=(8,5))\n",
    "plt.plot(history.history['accuracy'],\n",
    "         label='Доля верных ответов на обучающем наборе')\n",
    "plt.plot(history.history['val_accuracy'],\n",
    "         label='Доля верных ответов на проверочном наборе')\n",
    "plt.xlabel('Эпоха обучения')\n",
    "plt.ylabel('Доля верных ответов')\n",
    "plt.legend() \n",
    "plt.show()"
   ]
  },
  {
   "cell_type": "code",
   "execution_count": 27,
   "id": "68bf1e3c",
   "metadata": {},
   "outputs": [],
   "source": [
    "model03 = load_model('хак2.h5')"
   ]
  },
  {
   "cell_type": "code",
   "execution_count": 28,
   "id": "3065ccd8",
   "metadata": {},
   "outputs": [
    {
     "name": "stdout",
     "output_type": "stream",
     "text": [
      "747/747 [==============================] - 4s 5ms/step\n"
     ]
    }
   ],
   "source": [
    "pre = model03.predict(x_val)"
   ]
  },
  {
   "cell_type": "code",
   "execution_count": 29,
   "id": "ab356bcf",
   "metadata": {},
   "outputs": [],
   "source": [
    "li_pre = [int(round(i[0], 0)) for i in pre] "
   ]
  },
  {
   "cell_type": "code",
   "execution_count": 30,
   "id": "db281529",
   "metadata": {},
   "outputs": [
    {
     "data": {
      "text/plain": [
       "0.7781569965870307"
      ]
     },
     "execution_count": 30,
     "metadata": {},
     "output_type": "execute_result"
    }
   ],
   "source": [
    "compute_metric(li_pre, y_val) "
   ]
  },
  {
   "cell_type": "markdown",
   "id": "189cf555-2723-4906-a217-ee421d83f38e",
   "metadata": {},
   "source": [
    "0.77 на валидации не плохо , а теперь попробуем catboost"
   ]
  },
  {
   "cell_type": "markdown",
   "id": "56a9d81b-1a26-4d2a-83d4-1011514ea07b",
   "metadata": {},
   "source": [
    "но для начало стоп слова"
   ]
  },
  {
   "cell_type": "code",
   "execution_count": 31,
   "id": "931659f4",
   "metadata": {},
   "outputs": [
    {
     "name": "stderr",
     "output_type": "stream",
     "text": [
      "[nltk_data] Downloading package stopwords to\n",
      "[nltk_data]     C:\\Users\\Алексей\\AppData\\Roaming\\nltk_data...\n",
      "[nltk_data]   Package stopwords is already up-to-date!\n"
     ]
    }
   ],
   "source": [
    "nltk.download(\"stopwords\")\n",
    "stop_words = nltk.corpus.stopwords.words('english')"
   ]
  },
  {
   "cell_type": "markdown",
   "id": "e252955e-706a-4140-8bc3-d40139512b19",
   "metadata": {},
   "source": [
    "для того чтобы загрузить в catboost данные нужно не много по другому векторизировать"
   ]
  },
  {
   "cell_type": "code",
   "execution_count": 32,
   "id": "7a4a07e6-68a4-4549-a597-0b23ed74c5f5",
   "metadata": {},
   "outputs": [],
   "source": [
    "vectorizer = TfidfVectorizer(stop_words=stop_words)"
   ]
  },
  {
   "cell_type": "code",
   "execution_count": 33,
   "id": "1c15df43-b09b-4623-a2cf-fb2d5d62abd9",
   "metadata": {},
   "outputs": [],
   "source": [
    "x_tr = vectorizer.fit_transform(data['text'])\n",
    "y_tr = data['toxic']"
   ]
  },
  {
   "cell_type": "code",
   "execution_count": 34,
   "id": "aa775cdb",
   "metadata": {},
   "outputs": [],
   "source": [
    "cb_params = {\n",
    "             'eval_metric': 'F1',\n",
    "             'loss_function' : 'Logloss',\n",
    "             'learning_rate': 0.6,\n",
    "             'iterations' : 1000,\n",
    "             'random_seed': 42,\n",
    "             'verbose':100}\n",
    "\n",
    "train_data = Pool(data=x_tr,\n",
    "                  label=y_tr\n",
    "                  )"
   ]
  },
  {
   "cell_type": "code",
   "execution_count": 35,
   "id": "48ef099e",
   "metadata": {},
   "outputs": [
    {
     "name": "stdout",
     "output_type": "stream",
     "text": [
      "Training on fold [0/3]\n",
      "0:\tlearn: 0.3864821\ttest: 0.3911494\tbest: 0.3911494 (0)\ttotal: 1.23s\tremaining: 20m 28s\n",
      "100:\tlearn: 0.7894373\ttest: 0.7419808\tbest: 0.7426042 (95)\ttotal: 1m 18s\tremaining: 11m 41s\n",
      "200:\tlearn: 0.8357503\ttest: 0.7541434\tbest: 0.7541434 (200)\ttotal: 2m 32s\tremaining: 10m 5s\n",
      "\n",
      "bestTest = 0.7541433548\n",
      "bestIteration = 200\n",
      "\n",
      "Training on fold [1/3]\n",
      "0:\tlearn: 0.4235141\ttest: 0.4277457\tbest: 0.4277457 (0)\ttotal: 798ms\tremaining: 13m 17s\n",
      "100:\tlearn: 0.7927880\ttest: 0.7496491\tbest: 0.7496491 (100)\ttotal: 1m 14s\tremaining: 11m\n",
      "200:\tlearn: 0.8368823\ttest: 0.7559656\tbest: 0.7565734 (192)\ttotal: 2m 25s\tremaining: 9m 40s\n",
      "300:\tlearn: 0.8465976\ttest: 0.7591966\tbest: 0.7593492 (289)\ttotal: 3m 38s\tremaining: 8m 26s\n",
      "400:\tlearn: 0.8537988\ttest: 0.7604057\tbest: 0.7604860 (398)\ttotal: 4m 49s\tremaining: 7m 13s\n",
      "500:\tlearn: 0.8602729\ttest: 0.7637397\tbest: 0.7642602 (493)\ttotal: 6m 2s\tremaining: 6m\n",
      "\n",
      "bestTest = 0.7642601558\n",
      "bestIteration = 493\n",
      "\n",
      "Training on fold [2/3]\n",
      "0:\tlearn: 0.4692238\ttest: 0.4611924\tbest: 0.4611924 (0)\ttotal: 775ms\tremaining: 12m 54s\n",
      "100:\tlearn: 0.7880911\ttest: 0.7495133\tbest: 0.7495133 (100)\ttotal: 1m 13s\tremaining: 10m 51s\n",
      "200:\tlearn: 0.8330334\ttest: 0.7615409\tbest: 0.7617532 (197)\ttotal: 2m 24s\tremaining: 9m 35s\n",
      "\n",
      "bestTest = 0.7631133672\n",
      "bestIteration = 241\n",
      "\n",
      "CPU times: total: 1h 17min 45s\n",
      "Wall time: 13min 45s\n"
     ]
    }
   ],
   "source": [
    "%%time\n",
    "cv_data = cv(\n",
    "    params = cb_params,\n",
    "    pool = train_data,\n",
    "    fold_count=3,\n",
    "    partition_random_seed=42,\n",
    "    verbose=100,\n",
    "    early_stopping_rounds=50\n",
    ")"
   ]
  },
  {
   "cell_type": "code",
   "execution_count": 36,
   "id": "cb41a2b9",
   "metadata": {},
   "outputs": [
    {
     "data": {
      "text/html": [
       "<div>\n",
       "<style scoped>\n",
       "    .dataframe tbody tr th:only-of-type {\n",
       "        vertical-align: middle;\n",
       "    }\n",
       "\n",
       "    .dataframe tbody tr th {\n",
       "        vertical-align: top;\n",
       "    }\n",
       "\n",
       "    .dataframe thead th {\n",
       "        text-align: right;\n",
       "    }\n",
       "</style>\n",
       "<table border=\"1\" class=\"dataframe\">\n",
       "  <thead>\n",
       "    <tr style=\"text-align: right;\">\n",
       "      <th></th>\n",
       "      <th>iterations</th>\n",
       "      <th>test-F1-mean</th>\n",
       "      <th>test-F1-std</th>\n",
       "      <th>train-F1-mean</th>\n",
       "      <th>train-F1-std</th>\n",
       "      <th>test-Logloss-mean</th>\n",
       "      <th>test-Logloss-std</th>\n",
       "      <th>train-Logloss-mean</th>\n",
       "      <th>train-Logloss-std</th>\n",
       "    </tr>\n",
       "  </thead>\n",
       "  <tbody>\n",
       "    <tr>\n",
       "      <th>493</th>\n",
       "      <td>493</td>\n",
       "      <td>0.760024</td>\n",
       "      <td>0.005855</td>\n",
       "      <td>0.848132</td>\n",
       "      <td>0.010492</td>\n",
       "      <td>0.127975</td>\n",
       "      <td>0.001989</td>\n",
       "      <td>0.077123</td>\n",
       "      <td>0.010483</td>\n",
       "    </tr>\n",
       "    <tr>\n",
       "      <th>494</th>\n",
       "      <td>494</td>\n",
       "      <td>0.760024</td>\n",
       "      <td>0.005855</td>\n",
       "      <td>0.848074</td>\n",
       "      <td>0.010392</td>\n",
       "      <td>0.127978</td>\n",
       "      <td>0.001987</td>\n",
       "      <td>0.077107</td>\n",
       "      <td>0.010509</td>\n",
       "    </tr>\n",
       "    <tr>\n",
       "      <th>495</th>\n",
       "      <td>495</td>\n",
       "      <td>0.760024</td>\n",
       "      <td>0.005855</td>\n",
       "      <td>0.848055</td>\n",
       "      <td>0.010358</td>\n",
       "      <td>0.127981</td>\n",
       "      <td>0.001983</td>\n",
       "      <td>0.077092</td>\n",
       "      <td>0.010536</td>\n",
       "    </tr>\n",
       "    <tr>\n",
       "      <th>496</th>\n",
       "      <td>496</td>\n",
       "      <td>0.760024</td>\n",
       "      <td>0.005855</td>\n",
       "      <td>0.848055</td>\n",
       "      <td>0.010358</td>\n",
       "      <td>0.127986</td>\n",
       "      <td>0.001979</td>\n",
       "      <td>0.077077</td>\n",
       "      <td>0.010561</td>\n",
       "    </tr>\n",
       "  </tbody>\n",
       "</table>\n",
       "</div>"
      ],
      "text/plain": [
       "     iterations  test-F1-mean  test-F1-std  train-F1-mean  train-F1-std  \\\n",
       "493         493      0.760024     0.005855       0.848132      0.010492   \n",
       "494         494      0.760024     0.005855       0.848074      0.010392   \n",
       "495         495      0.760024     0.005855       0.848055      0.010358   \n",
       "496         496      0.760024     0.005855       0.848055      0.010358   \n",
       "\n",
       "     test-Logloss-mean  test-Logloss-std  train-Logloss-mean  \\\n",
       "493           0.127975          0.001989            0.077123   \n",
       "494           0.127978          0.001987            0.077107   \n",
       "495           0.127981          0.001983            0.077092   \n",
       "496           0.127986          0.001979            0.077077   \n",
       "\n",
       "     train-Logloss-std  \n",
       "493           0.010483  \n",
       "494           0.010509  \n",
       "495           0.010536  \n",
       "496           0.010561  "
      ]
     },
     "execution_count": 36,
     "metadata": {},
     "output_type": "execute_result"
    }
   ],
   "source": [
    "cv_data[cv_data['test-F1-mean'] == cv_data['test-F1-mean'].max()]"
   ]
  },
  {
   "cell_type": "code",
   "execution_count": 37,
   "id": "c122bd90",
   "metadata": {},
   "outputs": [
    {
     "data": {
      "text/plain": [
       "0.7600240556748461"
      ]
     },
     "execution_count": 37,
     "metadata": {},
     "output_type": "execute_result"
    }
   ],
   "source": [
    "cb_score = cv_data['test-F1-mean'].max()\n",
    "cb_score"
   ]
  },
  {
   "cell_type": "markdown",
   "id": "23806496",
   "metadata": {},
   "source": [
    "0.76 на валидации , устраивает давайте тестить"
   ]
  },
  {
   "cell_type": "code",
   "execution_count": 38,
   "id": "8b57e1cc",
   "metadata": {},
   "outputs": [
    {
     "name": "stdout",
     "output_type": "stream",
     "text": [
      "635/635 [==============================] - 3s 5ms/step\n"
     ]
    },
    {
     "data": {
      "text/plain": [
       "0.7683881064162753"
      ]
     },
     "execution_count": 38,
     "metadata": {},
     "output_type": "execute_result"
    }
   ],
   "source": [
    "pre = model03.predict(x_test)\n",
    "li_pre = [int(round(i[0], 0)) for i in pre] \n",
    "compute_metric(li_pre, y_test) "
   ]
  },
  {
   "cell_type": "markdown",
   "id": "c1cdd820",
   "metadata": {},
   "source": [
    "отлично порог пройден"
   ]
  },
  {
   "cell_type": "markdown",
   "id": "56e28802",
   "metadata": {},
   "source": [
    "## Выводы"
   ]
  },
  {
   "cell_type": "markdown",
   "id": "b2c91983",
   "metadata": {},
   "source": [
    "<b>вывод:</b>\n",
    "<br>по результату работы с данными . Тексты были очищенны и токенизированы.\n",
    "<br>итог эксперементов с моделями:после проб с разными архитееткрами была выбрана лучшая и \n",
    "<br>рекомендации бизнесу: проблем нет "
   ]
  }
 ],
 "metadata": {
  "ExecuteTimeLog": [
   {
    "duration": 10,
    "start_time": "2023-08-24T09:25:55.954Z"
   },
   {
    "duration": 670,
    "start_time": "2023-08-24T09:27:33.640Z"
   },
   {
    "duration": 3204,
    "start_time": "2023-08-24T09:27:34.313Z"
   },
   {
    "duration": 0,
    "start_time": "2023-08-24T09:27:37.519Z"
   },
   {
    "duration": 0,
    "start_time": "2023-08-24T09:27:37.520Z"
   },
   {
    "duration": 0,
    "start_time": "2023-08-24T09:27:37.521Z"
   },
   {
    "duration": 0,
    "start_time": "2023-08-24T09:27:37.523Z"
   },
   {
    "duration": 0,
    "start_time": "2023-08-24T09:27:37.524Z"
   },
   {
    "duration": 14,
    "start_time": "2023-08-24T09:27:38.620Z"
   },
   {
    "duration": 3,
    "start_time": "2023-08-24T09:27:39.058Z"
   },
   {
    "duration": 37,
    "start_time": "2023-08-24T09:28:01.156Z"
   }
  ],
  "kernelspec": {
   "display_name": "Python 3 (ipykernel)",
   "language": "python",
   "name": "python3"
  },
  "language_info": {
   "codemirror_mode": {
    "name": "ipython",
    "version": 3
   },
   "file_extension": ".py",
   "mimetype": "text/x-python",
   "name": "python",
   "nbconvert_exporter": "python",
   "pygments_lexer": "ipython3",
   "version": "3.9.16"
  },
  "toc": {
   "base_numbering": 1,
   "nav_menu": {},
   "number_sections": true,
   "sideBar": true,
   "skip_h1_title": true,
   "title_cell": "Table of Contents",
   "title_sidebar": "Contents",
   "toc_cell": false,
   "toc_position": {},
   "toc_section_display": true,
   "toc_window_display": true
  }
 },
 "nbformat": 4,
 "nbformat_minor": 5
}
